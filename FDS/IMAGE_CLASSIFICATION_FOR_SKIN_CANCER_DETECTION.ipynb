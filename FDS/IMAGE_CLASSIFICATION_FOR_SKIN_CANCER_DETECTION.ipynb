{
  "cells": [
    {
      "cell_type": "markdown",
      "source": [
        "#IMAGE CLASSIFICATION MODELS FOR SKIN CANCER DETECTION"
      ],
      "metadata": {
        "id": "UcCzBpKps6eT"
      }
    },
    {
      "cell_type": "markdown",
      "source": [
        "To Read: We suggest running the cnn part and the other one separately to avoid RAM crashes with google colab"
      ],
      "metadata": {
        "id": "ZRfOpBvaUDSW"
      }
    },
    {
      "cell_type": "markdown",
      "metadata": {
        "id": "kW4P15fCgm1F"
      },
      "source": [
        "#Libraries"
      ]
    },
    {
      "cell_type": "code",
      "execution_count": null,
      "metadata": {
        "id": "HxWJkhJsWPsw",
        "colab": {
          "base_uri": "https://localhost:8080/"
        },
        "outputId": "2b7a33f5-1ff2-451b-f8a9-532bd2f2f8f0"
      },
      "outputs": [
        {
          "output_type": "stream",
          "name": "stdout",
          "text": [
            "Drive already mounted at /content/drive; to attempt to forcibly remount, call drive.mount(\"/content/drive\", force_remount=True).\n"
          ]
        }
      ],
      "source": [
        "# connect to Drive\n",
        "\n",
        "from google.colab import drive\n",
        "drive.mount('/content/drive')"
      ]
    },
    {
      "cell_type": "code",
      "execution_count": null,
      "metadata": {
        "id": "m71MZT2lUYoj"
      },
      "outputs": [],
      "source": [
        "# import libraries\n",
        "from sklearn.naive_bayes import GaussianNB\n",
        "from imblearn.over_sampling import RandomOverSampler\n",
        "from sklearn.metrics import classification_report\n",
        "from sklearn.metrics import accuracy_score\n",
        "from sklearn.metrics import confusion_matrix\n",
        "import imgaug as ia\n",
        "from imgaug import augmenters as iaa\n",
        "import os\n",
        "import warnings \n",
        "warnings.filterwarnings(\"ignore\")\n",
        "%matplotlib inline\n",
        "from sklearn.preprocessing import OneHotEncoder\n",
        "import matplotlib.pyplot as plt\n",
        "import numpy as np\n",
        "import pandas as pd\n",
        "import os\n",
        "from glob import glob\n",
        "import seaborn as sns\n",
        "from PIL import Image\n",
        "np.random.seed(11) # It's my lucky number\n",
        "from sklearn.preprocessing import StandardScaler \n",
        "from sklearn.model_selection import train_test_split, KFold, cross_val_score, GridSearchCV\n",
        "from sklearn.metrics import accuracy_score\n",
        "from numpy import asarray\n",
        "import itertools\n",
        "import glob\n",
        "import cv2\n",
        "from mlxtend.plotting import plot_confusion_matrix\n",
        "import tensorflow as tf\n",
        "import keras\n",
        "from keras.utils.np_utils import to_categorical # used for converting labels to one-hot-encoding\n",
        "from keras.models import Sequential, Model\n",
        "from keras.layers import Dense, Dropout, Flatten, Conv2D, MaxPool2D\n",
        "from keras import backend as K\n",
        "#from keras.layers.normalization import BatchNormalization\n",
        "from keras.utils.np_utils import to_categorical # convert to one-hot-encoding\n",
        "from keras.optimizers import Adam, RMSprop\n",
        "from keras.preprocessing.image import ImageDataGenerator\n",
        "from keras.callbacks import ReduceLROnPlateau\n",
        "from keras.wrappers.scikit_learn import KerasClassifier\n",
        "from keras import backend as K \n",
        "\n",
        "from sklearn.neighbors import KNeighborsClassifier\n",
        "from sklearn.preprocessing import StandardScaler\n",
        "from sklearn import datasets\n",
        "from sklearn.model_selection import train_test_split\n",
        "from sklearn.svm import SVC\n",
        "from collections import Counter\n",
        "\n",
        "np.random.seed(23072016)"
      ]
    },
    {
      "cell_type": "markdown",
      "metadata": {
        "id": "UJU5dNHFgrDq"
      },
      "source": [
        "#Load Data\n"
      ]
    },
    {
      "cell_type": "markdown",
      "metadata": {
        "id": "RpWOl07urRK0"
      },
      "source": [
        "STEP 1: IMPORT DATA"
      ]
    },
    {
      "cell_type": "code",
      "execution_count": null,
      "metadata": {
        "id": "5rbUTVeEzwjZ"
      },
      "outputs": [],
      "source": [
        "labels = ['benign', 'malignant']\n",
        "\n",
        "img_size = 224\n",
        "def get_data(data_dir):\n",
        "    data = [] \n",
        "    for label in labels: \n",
        "        path = os.path.join(data_dir, label)\n",
        "        class_num = labels.index(label)\n",
        "        for img in os.listdir(path):\n",
        "            try:\n",
        "                img_arr = cv2.imread(os.path.join(path, img))[...,::-1] #convert BGR to RGB format\n",
        "                resized_arr = cv2.resize(img_arr, (img_size, img_size)) # Reshaping images to preferred size\n",
        "                data.append([resized_arr, class_num])\n",
        "            except Exception as e:\n",
        "                print(e)\n",
        "    return np.array(data)"
      ]
    },
    {
      "cell_type": "code",
      "execution_count": null,
      "metadata": {
        "id": "PNfgZtZPzwhW"
      },
      "outputs": [],
      "source": [
        "# import train\n",
        "train = get_data('/content/drive/MyDrive/Progetto FDS/data/train')"
      ]
    },
    {
      "cell_type": "code",
      "execution_count": null,
      "metadata": {
        "id": "65_kjWpzqQCi"
      },
      "outputs": [],
      "source": [
        "# import test\n",
        "test = get_data('/content/drive/MyDrive/Progetto FDS/data/test')"
      ]
    },
    {
      "cell_type": "markdown",
      "metadata": {
        "id": "svVErjv8rPP_"
      },
      "source": [
        "STEP 2: SPLIT LABELS AND FEATURES"
      ]
    },
    {
      "cell_type": "code",
      "execution_count": null,
      "metadata": {
        "id": "7brmOBxH5kQl"
      },
      "outputs": [],
      "source": [
        "# split the data\n",
        "\n",
        "x_train = []\n",
        "y_train = []\n",
        "x_test = []\n",
        "y_test = []\n",
        "\n",
        "for feature, label in train:\n",
        "  x_train.append(feature)\n",
        "  y_train.append(label)\n",
        "\n",
        "for feature, label in test:\n",
        "  x_test.append(feature)\n",
        "  y_test.append(label)"
      ]
    },
    {
      "cell_type": "code",
      "execution_count": null,
      "metadata": {
        "id": "LcBMSGhu5lYu"
      },
      "outputs": [],
      "source": [
        "x_train=asarray(x_train)\n",
        "y_train=asarray(y_train)\n",
        "\n",
        "x_test=asarray(x_test)\n",
        "y_test=asarray(y_test)"
      ]
    },
    {
      "cell_type": "code",
      "execution_count": null,
      "metadata": {
        "id": "r1WMUf_C-LKp"
      },
      "outputs": [],
      "source": [
        "# let's do the shuffle\n",
        "s = np.arange(x_train.shape[0])\n",
        "np.random.shuffle(s)\n",
        "x_train = x_train[s]\n",
        "y_train = y_train[s]"
      ]
    },
    {
      "cell_type": "code",
      "execution_count": null,
      "metadata": {
        "id": "60HAUn_e-ytC",
        "colab": {
          "base_uri": "https://localhost:8080/"
        },
        "outputId": "b8db3367-65c9-41fe-8483-ea3edd96f640"
      },
      "outputs": [
        {
          "output_type": "execute_result",
          "data": {
            "text/plain": [
              "Counter({0: 1438, 1: 1180})"
            ]
          },
          "metadata": {},
          "execution_count": 17
        },
        {
          "output_type": "display_data",
          "data": {
            "text/plain": [
              "<Figure size 720x432 with 1 Axes>"
            ],
            "image/png": "[encoded data removed]"
          },
          "metadata": {}
        }
      ],
      "source": [
        "# let's see what the train set contains\n",
        "\n",
        "l = []\n",
        "for i in train:\n",
        "    if(i[1] == 0):\n",
        "        l.append(\"benign\")\n",
        "    else:\n",
        "        l.append(\"malignant\")\n",
        "sns.set_style('darkgrid')\n",
        "\n",
        "fig, ax = plt.subplots(figsize=(10,6))\n",
        "\n",
        "ax=sns.countplot(l, palette=[\"green\",\"purple\"])\n",
        "\n",
        "Counter(y_train)"
      ]
    },
    {
      "cell_type": "code",
      "execution_count": null,
      "metadata": {
        "id": "u2jwpaTA7FC6"
      },
      "outputs": [],
      "source": [
        "# before balancing we have to reshape the array\n",
        "x_train_res = x_train.reshape(2618,3*224*224)"
      ]
    },
    {
      "cell_type": "markdown",
      "source": [
        "#CNN"
      ],
      "metadata": {
        "id": "HBz1_L2HMJnh"
      }
    },
    {
      "cell_type": "markdown",
      "metadata": {
        "id": "RkvdjHR8aK-p"
      },
      "source": [
        "#Balancing and One-Hot Encoding\n"
      ]
    },
    {
      "cell_type": "markdown",
      "source": [
        "Step 1: Balancing"
      ],
      "metadata": {
        "id": "hDRHCJn_u_6t"
      }
    },
    {
      "cell_type": "code",
      "execution_count": null,
      "metadata": {
        "id": "rqh8v1frmg2y"
      },
      "outputs": [],
      "source": [
        "# we do balancing through the oversample technique\n",
        "\n",
        "ros=RandomOverSampler(random_state=42)\n",
        "x_oversampled, y_oversampled = ros.fit_resample(x_train_res, y_train)"
      ]
    },
    {
      "cell_type": "code",
      "execution_count": null,
      "metadata": {
        "colab": {
          "base_uri": "https://localhost:8080/"
        },
        "id": "xc-FH7MUoase",
        "outputId": "d27e027c-bdc7-4b12-ad66-4c615a9322bb"
      },
      "outputs": [
        {
          "output_type": "execute_result",
          "data": {
            "text/plain": [
              "Counter({0: 1438, 1: 1438})"
            ]
          },
          "metadata": {},
          "execution_count": 12
        }
      ],
      "source": [
        "# we now have the same number of images for each class in the train set\n",
        "Counter(y_oversampled)"
      ]
    },
    {
      "cell_type": "code",
      "execution_count": null,
      "metadata": {
        "colab": {
          "base_uri": "https://localhost:8080/",
          "height": 262
        },
        "id": "GRjtWKL9i95s",
        "outputId": "f0baef60-83df-4bc6-bd30-02d4cba5a697"
      },
      "outputs": [
        {
          "output_type": "display_data",
          "data": {
            "text/plain": [
              "<Figure size 432x288 with 1 Axes>"
            ],
            "image/png": "[encoded data removed]"
          },
          "metadata": {}
        }
      ],
      "source": [
        "w= Counter(y_oversampled)\n",
        "key = w.keys()\n",
        "\n",
        "df = pd.DataFrame(w,index=key)\n",
        "df.drop(df.columns[1:], inplace=True)\n",
        "\n",
        "df.plot(kind='bar')\n",
        "\n",
        "plt.show()"
      ]
    },
    {
      "cell_type": "code",
      "execution_count": null,
      "metadata": {
        "id": "dGbtEUoKrmi0"
      },
      "outputs": [],
      "source": [
        "# we reshape the array again in order to represent it \n",
        "x_oversampled_res=x_oversampled.reshape(2876,224,224,3)"
      ]
    },
    {
      "cell_type": "code",
      "execution_count": null,
      "metadata": {
        "colab": {
          "base_uri": "https://localhost:8080/",
          "height": 281
        },
        "id": "EJMVyeERr-IR",
        "outputId": "0b3cbb65-54b7-40a1-814b-66dc9bae3494"
      },
      "outputs": [
        {
          "output_type": "display_data",
          "data": {
            "text/plain": [
              "<Figure size 432x288 with 1 Axes>"
            ],
            "image/png": "[encoded data removed]"
          },
          "metadata": {}
        }
      ],
      "source": [
        "# let's plot a random image to see if everything is okay \n",
        "plt.imshow(x_oversampled_res[2875])\n",
        "plt.title(y_oversampled[2875])\n",
        "plt.show()"
      ]
    },
    {
      "cell_type": "markdown",
      "metadata": {
        "id": "m_GdShZu74EV"
      },
      "source": [
        "Step 2: one hot encoding"
      ]
    },
    {
      "cell_type": "code",
      "execution_count": null,
      "metadata": {
        "colab": {
          "base_uri": "https://localhost:8080/"
        },
        "id": "04rQuEWEK69W",
        "outputId": "60eb1a81-8112-4b43-fb3d-de6149cb4f66"
      },
      "outputs": [
        {
          "output_type": "execute_result",
          "data": {
            "text/plain": [
              "array([0, 0, 1, ..., 1, 1, 1])"
            ]
          },
          "metadata": {},
          "execution_count": 16
        }
      ],
      "source": [
        "y_oversampled"
      ]
    },
    {
      "cell_type": "code",
      "execution_count": null,
      "metadata": {
        "id": "3qhUhJ814RPb"
      },
      "outputs": [],
      "source": [
        "y_oversampled = np.asarray(y_oversampled).astype('float32').reshape((-1,1))"
      ]
    },
    {
      "cell_type": "code",
      "execution_count": null,
      "metadata": {
        "colab": {
          "base_uri": "https://localhost:8080/"
        },
        "id": "YX0DxUo1K7AD",
        "outputId": "e74ec440-a5d7-42bf-b8e9-c62ebef2601b"
      },
      "outputs": [
        {
          "output_type": "stream",
          "name": "stdout",
          "text": [
            "[[1. 0.]\n",
            " [1. 0.]\n",
            " [0. 1.]\n",
            " ...\n",
            " [0. 1.]\n",
            " [0. 1.]\n",
            " [0. 1.]]\n"
          ]
        }
      ],
      "source": [
        "encoder = OneHotEncoder()\n",
        "\n",
        "one_hot = encoder.fit_transform(y_oversampled) \n",
        "\n",
        "print(one_hot.toarray())"
      ]
    },
    {
      "cell_type": "code",
      "execution_count": null,
      "metadata": {
        "id": "JkZc3MevMK1-"
      },
      "outputs": [],
      "source": [
        "Y_train=one_hot.toarray()"
      ]
    },
    {
      "cell_type": "markdown",
      "metadata": {
        "id": "xTwB2bZjg4x2"
      },
      "source": [
        "#Data Augmentation"
      ]
    },
    {
      "cell_type": "code",
      "execution_count": null,
      "metadata": {
        "id": "yQCpTqNXrKmR"
      },
      "outputs": [],
      "source": [
        "# Load the dataset\n",
        "x_oversampled_res = np.array([ia.imresize_single_image(image, (224, 224)) for image in x_oversampled_res])\n",
        "\n",
        "# Define the augmentation pipeline\n",
        "seq = iaa.Sequential([\n",
        "    iaa.Fliplr(0.5), # horizontal flip\n",
        "    iaa.Crop(percent=(0.1))\n",
        "])\n",
        "\n",
        "# Augment the dataset\n",
        "augmented_images = seq.augment_images(x_oversampled_res)"
      ]
    },
    {
      "cell_type": "code",
      "execution_count": null,
      "metadata": {
        "colab": {
          "base_uri": "https://localhost:8080/"
        },
        "id": "fDcvPCzErKL9",
        "outputId": "b9730d5f-0864-42f5-e3dd-7516a9195bc3"
      },
      "outputs": [
        {
          "output_type": "execute_result",
          "data": {
            "text/plain": [
              "2876"
            ]
          },
          "metadata": {},
          "execution_count": 21
        }
      ],
      "source": [
        "# that has the same lenght because for every original image we generate a new image and we put it in augmented_images\n",
        "len(augmented_images)"
      ]
    },
    {
      "cell_type": "code",
      "execution_count": null,
      "metadata": {
        "id": "Go9RCejz8iDn"
      },
      "outputs": [],
      "source": [
        "# Concatenate the augmented_images and images arrays along the first axis (axis=0)\n",
        "X_train = np.concatenate((x_oversampled_res,augmented_images), axis=0)"
      ]
    },
    {
      "cell_type": "code",
      "execution_count": null,
      "metadata": {
        "colab": {
          "base_uri": "https://localhost:8080/"
        },
        "id": "o2DfKAEQ8h2h",
        "outputId": "bdb2b811-b0f2-4026-b9c7-5e19c3b944f1"
      },
      "outputs": [
        {
          "output_type": "execute_result",
          "data": {
            "text/plain": [
              "(5752, 224, 224, 3)"
            ]
          },
          "metadata": {},
          "execution_count": 23
        }
      ],
      "source": [
        "X_train.shape"
      ]
    },
    {
      "cell_type": "code",
      "execution_count": null,
      "metadata": {
        "id": "NPkDcfXv88lQ"
      },
      "outputs": [],
      "source": [
        "Y_train = np.tile(Y_train, (2, 1))"
      ]
    },
    {
      "cell_type": "code",
      "execution_count": null,
      "metadata": {
        "colab": {
          "base_uri": "https://localhost:8080/"
        },
        "id": "yK7HDoRC9eun",
        "outputId": "2c40363d-0a86-40a6-88c0-8f164b7681eb"
      },
      "outputs": [
        {
          "output_type": "execute_result",
          "data": {
            "text/plain": [
              "(5752, 2)"
            ]
          },
          "metadata": {},
          "execution_count": 25
        }
      ],
      "source": [
        "# we duplicates also the labels\n",
        "Y_train.shape"
      ]
    },
    {
      "cell_type": "markdown",
      "metadata": {
        "id": "lJWhx_vFgf6T"
      },
      "source": [
        "# CNN model\n"
      ]
    },
    {
      "cell_type": "markdown",
      "source": [
        "Define the model"
      ],
      "metadata": {
        "id": "3y1abchMvied"
      }
    },
    {
      "cell_type": "code",
      "execution_count": null,
      "metadata": {
        "id": "kALCjihqgYOe"
      },
      "outputs": [],
      "source": [
        "def build(input_shape= (224,224,3), lr = 1e-2, num_classes= 2,\n",
        "          init= 'normal', activ= 'relu', optim= 'adam'):\n",
        "    model = Sequential()\n",
        "    # Add a set of convolutional layers with filters of size 3x3\n",
        "    model.add(tf.keras.layers.Conv2D(filters=32, kernel_size=3, activation='relu', input_shape=(224, 224, 3)))\n",
        "    model.add(tf.keras.layers.Conv2D(filters=32, kernel_size=3, activation='relu'))\n",
        "\n",
        "    # Add a batch normalization layer\n",
        "    model.add(tf.keras.layers.BatchNormalization())\n",
        "\n",
        "    # Add a max pooling layer with pool size of 2x2\n",
        "    model.add(tf.keras.layers.MaxPooling2D(pool_size=2))\n",
        "\n",
        "    # Add more convolutional and max pooling layers to increase the depth of the network.\n",
        "    model.add(tf.keras.layers.Conv2D(filters=64, kernel_size=3, activation='relu'))\n",
        "    model.add(tf.keras.layers.Conv2D(filters=64, kernel_size=3, activation='relu'))\n",
        "    model.add(tf.keras.layers.BatchNormalization())\n",
        "    model.add(tf.keras.layers.MaxPooling2D(pool_size=2))\n",
        "\n",
        "    model.add(tf.keras.layers.Conv2D(filters=128, kernel_size=3, activation='relu'))\n",
        "    model.add(tf.keras.layers.Conv2D(filters=128, kernel_size=3, activation='relu'))\n",
        "    model.add(tf.keras.layers.BatchNormalization())\n",
        "    model.add(tf.keras.layers.MaxPooling2D(pool_size=2))\n",
        "\n",
        "    # Add a flattening layer\n",
        "    model.add(tf.keras.layers.Flatten())\n",
        "\n",
        "    # Add fully-connected layers.\n",
        "    model.add(tf.keras.layers.Dense(units=256, activation='relu'))\n",
        "    model.add(tf.keras.layers.Dense(units=128, activation='relu'))\n",
        "\n",
        "    # Add an output layer with softmax activation for classification into two categories (benign or malignant).\n",
        "    model.add(tf.keras.layers.Dense(units=2, activation='softmax'))\n",
        "\n",
        "    model.compile(optimizer='adam', loss='binary_crossentropy', metrics=['accuracy'])\n",
        "    return model"
      ]
    },
    {
      "cell_type": "code",
      "execution_count": null,
      "metadata": {
        "id": "NH03yn_oBPBv"
      },
      "outputs": [],
      "source": [
        "model = build()"
      ]
    },
    {
      "cell_type": "markdown",
      "metadata": {
        "id": "rk2OxzNCCKE8"
      },
      "source": [
        "#K-Fold Cross-Validation\n"
      ]
    },
    {
      "cell_type": "markdown",
      "source": [
        "Test the performance of our CNN"
      ],
      "metadata": {
        "id": "fulCMIRkvobs"
      }
    },
    {
      "cell_type": "code",
      "execution_count": null,
      "metadata": {
        "colab": {
          "base_uri": "https://localhost:8080/"
        },
        "id": "tpycVZnvCG1h",
        "outputId": "2aef7b55-737e-4b89-a00b-8727141171ae"
      },
      "outputs": [
        {
          "name": "stdout",
          "output_type": "stream",
          "text": [
            "Epoch 1/10\n",
            "90/90 [==============================] - 37s 327ms/step - loss: 1.1053 - accuracy: 0.7851\n",
            "Epoch 2/10\n",
            "90/90 [==============================] - 26s 284ms/step - loss: 0.4928 - accuracy: 0.8282\n",
            "Epoch 3/10\n",
            "90/90 [==============================] - 25s 279ms/step - loss: 0.4024 - accuracy: 0.8449\n",
            "Epoch 4/10\n",
            "90/90 [==============================] - 25s 282ms/step - loss: 0.3009 - accuracy: 0.8802\n",
            "Epoch 5/10\n",
            "90/90 [==============================] - 25s 282ms/step - loss: 0.2246 - accuracy: 0.9132\n",
            "Epoch 6/10\n",
            "90/90 [==============================] - 25s 279ms/step - loss: 0.1827 - accuracy: 0.9345\n",
            "Epoch 7/10\n",
            "90/90 [==============================] - 25s 282ms/step - loss: 0.1659 - accuracy: 0.9395\n",
            "Epoch 8/10\n",
            "90/90 [==============================] - 25s 282ms/step - loss: 0.1161 - accuracy: 0.9637\n",
            "Epoch 9/10\n",
            "90/90 [==============================] - 25s 281ms/step - loss: 0.0774 - accuracy: 0.9774\n",
            "Epoch 10/10\n",
            "90/90 [==============================] - 25s 281ms/step - loss: 0.0950 - accuracy: 0.9727\n",
            "60/60 [==============================] - 5s 56ms/step - loss: 0.4490 - accuracy: 0.8650\n",
            "accuracy: 86.50%\n",
            "Epoch 1/10\n",
            "90/90 [==============================] - 26s 284ms/step - loss: 0.9903 - accuracy: 0.7752\n",
            "Epoch 2/10\n",
            "90/90 [==============================] - 25s 283ms/step - loss: 0.4646 - accuracy: 0.8275\n",
            "Epoch 3/10\n",
            "90/90 [==============================] - 25s 283ms/step - loss: 0.3596 - accuracy: 0.8585\n",
            "Epoch 4/10\n",
            "90/90 [==============================] - 25s 282ms/step - loss: 0.2602 - accuracy: 0.9011\n",
            "Epoch 5/10\n",
            "90/90 [==============================] - 26s 284ms/step - loss: 0.2021 - accuracy: 0.9245\n",
            "Epoch 6/10\n",
            "90/90 [==============================] - 25s 283ms/step - loss: 0.1437 - accuracy: 0.9496\n",
            "Epoch 7/10\n",
            "90/90 [==============================] - 25s 282ms/step - loss: 0.1658 - accuracy: 0.9437\n",
            "Epoch 8/10\n",
            "90/90 [==============================] - 25s 282ms/step - loss: 0.0527 - accuracy: 0.9831\n",
            "Epoch 9/10\n",
            "90/90 [==============================] - 25s 282ms/step - loss: 0.0350 - accuracy: 0.9892\n",
            "Epoch 10/10\n",
            "90/90 [==============================] - 25s 282ms/step - loss: 0.0170 - accuracy: 0.9955\n",
            "60/60 [==============================] - 4s 56ms/step - loss: 0.0450 - accuracy: 0.9849\n",
            "accuracy: 98.49%\n",
            "Epoch 1/10\n",
            "90/90 [==============================] - 26s 283ms/step - loss: 1.1650 - accuracy: 0.7568\n",
            "Epoch 2/10\n",
            "90/90 [==============================] - 25s 282ms/step - loss: 0.5673 - accuracy: 0.8011\n",
            "Epoch 3/10\n",
            "90/90 [==============================] - 25s 279ms/step - loss: 0.3845 - accuracy: 0.8439\n",
            "Epoch 4/10\n",
            "90/90 [==============================] - 25s 281ms/step - loss: 0.3092 - accuracy: 0.8736\n",
            "Epoch 5/10\n",
            "90/90 [==============================] - 25s 282ms/step - loss: 0.2276 - accuracy: 0.9039\n",
            "Epoch 6/10\n",
            "90/90 [==============================] - 25s 281ms/step - loss: 0.1677 - accuracy: 0.9358\n",
            "Epoch 7/10\n",
            "90/90 [==============================] - 25s 281ms/step - loss: 0.1112 - accuracy: 0.9572\n",
            "Epoch 8/10\n",
            "90/90 [==============================] - 25s 281ms/step - loss: 0.0622 - accuracy: 0.9791\n",
            "Epoch 9/10\n",
            "90/90 [==============================] - 25s 282ms/step - loss: 0.0461 - accuracy: 0.9856\n",
            "Epoch 10/10\n",
            "90/90 [==============================] - 25s 281ms/step - loss: 0.0795 - accuracy: 0.9767\n",
            "60/60 [==============================] - 2s 34ms/step - loss: 0.2357 - accuracy: 0.9223\n",
            "accuracy: 92.23%\n",
            "92.40% (+/- 4.90%)\n"
          ]
        }
      ],
      "source": [
        "# define 3-fold cross validation test harness\n",
        "kfold = KFold(n_splits=3)\n",
        "\n",
        "cvscores = []\n",
        "for train, test in kfold.split(X_train, Y_train):\n",
        "  # create model\n",
        "    model = build()\n",
        "    \n",
        "    # Fit the model\n",
        "    model.fit(X_train, Y_train, batch_size=64\n",
        "              , epochs=10)\n",
        "    # evaluate the model\n",
        "    scores = model.evaluate(X_train[test], Y_train[test], verbose=1)\n",
        "    print(\"%s: %.2f%%\" % (model.metrics_names[1], scores[1]*100))\n",
        "    cvscores.append(scores[1] * 100)\n",
        "    #K.clear_session()\n",
        "    #del model\n",
        "    \n",
        "print(\"%.2f%% (+/- %.2f%%)\" % (np.mean(cvscores), np.std(cvscores)))"
      ]
    },
    {
      "cell_type": "markdown",
      "source": [
        "Fit the model"
      ],
      "metadata": {
        "id": "ni7t5ehQy6b4"
      }
    },
    {
      "cell_type": "code",
      "execution_count": null,
      "metadata": {
        "colab": {
          "base_uri": "https://localhost:8080/"
        },
        "id": "SiXhIOvxb1Ag",
        "outputId": "de957b93-25d3-473f-e364-e0e9d4665763"
      },
      "outputs": [
        {
          "name": "stdout",
          "output_type": "stream",
          "text": [
            "Epoch 1/15\n",
            "90/90 [==============================] - 25s 282ms/step - loss: 0.0537 - accuracy: 0.9826\n",
            "Epoch 2/15\n",
            "90/90 [==============================] - 26s 285ms/step - loss: 0.0583 - accuracy: 0.9849\n",
            "Epoch 3/15\n",
            "90/90 [==============================] - 25s 280ms/step - loss: 0.0975 - accuracy: 0.9717\n",
            "Epoch 4/15\n",
            "90/90 [==============================] - 25s 280ms/step - loss: 0.0724 - accuracy: 0.9821\n",
            "Epoch 5/15\n",
            "90/90 [==============================] - 25s 283ms/step - loss: 0.0593 - accuracy: 0.9837\n",
            "Epoch 6/15\n",
            "90/90 [==============================] - 25s 282ms/step - loss: 0.0347 - accuracy: 0.9882\n",
            "Epoch 7/15\n",
            "90/90 [==============================] - 25s 280ms/step - loss: 0.0216 - accuracy: 0.9950\n",
            "Epoch 8/15\n",
            "90/90 [==============================] - 25s 281ms/step - loss: 0.0078 - accuracy: 0.9977\n",
            "Epoch 9/15\n",
            "90/90 [==============================] - 25s 281ms/step - loss: 0.0212 - accuracy: 0.9939\n",
            "Epoch 10/15\n",
            "90/90 [==============================] - 25s 280ms/step - loss: 0.0118 - accuracy: 0.9967\n",
            "Epoch 11/15\n",
            "90/90 [==============================] - 25s 281ms/step - loss: 0.0136 - accuracy: 0.9969\n",
            "Epoch 12/15\n",
            "90/90 [==============================] - 25s 280ms/step - loss: 0.0065 - accuracy: 0.9986\n",
            "Epoch 13/15\n",
            "90/90 [==============================] - 25s 280ms/step - loss: 0.0045 - accuracy: 0.9990\n",
            "Epoch 14/15\n",
            "90/90 [==============================] - 25s 281ms/step - loss: 0.0014 - accuracy: 0.9997\n",
            "Epoch 15/15\n",
            "90/90 [==============================] - 25s 281ms/step - loss: 9.6307e-04 - accuracy: 0.9997\n"
          ]
        }
      ],
      "source": [
        "history=model.fit(X_train, Y_train,\n",
        "          epochs=15, batch_size= 64\n",
        "         )"
      ]
    },
    {
      "cell_type": "code",
      "execution_count": null,
      "metadata": {
        "id": "klC7kT9TEv8j"
      },
      "outputs": [],
      "source": [
        "y_test = np.asarray(y_test).astype('float32').reshape((-1,1))"
      ]
    },
    {
      "cell_type": "code",
      "execution_count": null,
      "metadata": {
        "colab": {
          "base_uri": "https://localhost:8080/"
        },
        "id": "ZxMKCgCCEQ5l",
        "outputId": "36c75302-8a87-4240-959c-34a13126b103"
      },
      "outputs": [
        {
          "name": "stdout",
          "output_type": "stream",
          "text": [
            "[[1. 0.]\n",
            " [1. 0.]\n",
            " [1. 0.]\n",
            " ...\n",
            " [0. 1.]\n",
            " [0. 1.]\n",
            " [0. 1.]]\n"
          ]
        }
      ],
      "source": [
        "# ONE HOT ENCODING ON Y_TEST\n",
        "\n",
        "# creating the object of OneHotEncoder\n",
        "encoder = OneHotEncoder()\n",
        "\n",
        "# execute the one-hot encoding of datas\n",
        "one_hot = encoder.fit_transform(y_test) # ONE HOT are the labels\n",
        "\n",
        "print(one_hot.toarray()) #printing the result"
      ]
    },
    {
      "cell_type": "code",
      "execution_count": null,
      "metadata": {
        "id": "vLrolq4pEQ14"
      },
      "outputs": [],
      "source": [
        "Y_test=one_hot.toarray()"
      ]
    },
    {
      "cell_type": "code",
      "execution_count": null,
      "metadata": {
        "colab": {
          "base_uri": "https://localhost:8080/"
        },
        "id": "T6NAYfXrYViM",
        "outputId": "eca9fc7f-45d1-4582-c7a1-767f45beefbf"
      },
      "outputs": [
        {
          "name": "stdout",
          "output_type": "stream",
          "text": [
            "21/21 [==============================] - 1s 35ms/step\n",
            "0.86\n"
          ]
        }
      ],
      "source": [
        "#ACCURACY\n",
        "\n",
        "y_pred = model.predict(x_test)\n",
        "\n",
        "y_pred=np.argmax(y_pred, axis=1)\n",
        "y_test=np.argmax(Y_test, axis=1)\n",
        "\n",
        "\n",
        "print(round(accuracy_score(y_pred,y_test),2))\n",
        "# In the case of an accuracy of 0.86, it means that the model is able to predict the correct outcome in 86% of cases. \n",
        "#This is generally considered to be a good level of accuracy."
      ]
    },
    {
      "cell_type": "code",
      "execution_count": null,
      "metadata": {
        "colab": {
          "base_uri": "https://localhost:8080/"
        },
        "id": "kYq4G2BFGXix",
        "outputId": "7c080947-39f7-440c-817e-e5241c4c815e"
      },
      "outputs": [
        {
          "name": "stdout",
          "output_type": "stream",
          "text": [
            "[[318  42]\n",
            " [ 51 249]]\n"
          ]
        }
      ],
      "source": [
        "# confusion matrix\n",
        "cm = confusion_matrix(y_test, y_pred)"
      ]
    },
    {
      "cell_type": "code",
      "execution_count": null,
      "metadata": {
        "colab": {
          "base_uri": "https://localhost:8080/",
          "height": 432
        },
        "id": "F8j7Pbz4Hrp_",
        "outputId": "0ed9d4f0-bc1f-4b67-a075-8d78f38461de"
      },
      "outputs": [
        {
          "data": {
            "image/png": "[encoded data removed]",
            "text/plain": [
              "<Figure size 432x432 with 1 Axes>"
            ]
          },
          "metadata": {},
          "output_type": "display_data"
        }
      ],
      "source": [
        "fig, ax = plot_confusion_matrix(conf_mat=cm, figsize=(6, 6), cmap=plt.cm.Greens)\n",
        "plt.xlabel('Predictions', fontsize=18)\n",
        "plt.ylabel('Actuals', fontsize=18)\n",
        "plt.title('Confusion Matrix', fontsize=18)\n",
        "plt.show()\n",
        "#plot the confusion matrix\n",
        "# TP= 318, FP= 42, FN=51 TN=249"
      ]
    },
    {
      "cell_type": "code",
      "execution_count": null,
      "metadata": {
        "id": "zq7aYaT7_CWE"
      },
      "outputs": [],
      "source": [
        "report = classification_report(y_test, y_pred, output_dict=True) # generate a classification report for a given set of true labels (y_test) and predicted labels (y_pred)\n",
        "df = pd.DataFrame(report).transpose() \n",
        "# The resulting dictionary is then converted into a Pandas DataFrame\n",
        "# transpose method is called on the resulting DataFrame to rotate it so that the columns and rows are transposed"
      ]
    },
    {
      "cell_type": "code",
      "execution_count": null,
      "metadata": {
        "id": "gSs7ObyVAXcz"
      },
      "outputs": [],
      "source": [
        "df['precision'] = df['precision'].apply('{:.2%}'.format)\n",
        "df['recall'] = df['recall'].apply('{:.2%}'.format)\n",
        "df['f1-score'] = df['f1-score'].apply('{:.2%}'.format)\n",
        "df[\"support\"]=round(df[\"support\"],2)"
      ]
    },
    {
      "cell_type": "code",
      "execution_count": null,
      "metadata": {
        "colab": {
          "base_uri": "https://localhost:8080/",
          "height": 206
        },
        "id": "rKd6Lw0y_lA0",
        "outputId": "eb2ddb90-91f6-4773-8f12-3505a107dfd1"
      },
      "outputs": [
        {
          "data": {
            "text/html": [
              "\n",
              "  <div id=\"df-b381312e-5292-4208-b685-6931d678f30f\">\n",
              "    <div class=\"colab-df-container\">\n",
              "      <div>\n",
              "<style scoped>\n",
              "    .dataframe tbody tr th:only-of-type {\n",
              "        vertical-align: middle;\n",
              "    }\n",
              "\n",
              "    .dataframe tbody tr th {\n",
              "        vertical-align: top;\n",
              "    }\n",
              "\n",
              "    .dataframe thead th {\n",
              "        text-align: right;\n",
              "    }\n",
              "</style>\n",
              "<table border=\"1\" class=\"dataframe\">\n",
              "  <thead>\n",
              "    <tr style=\"text-align: right;\">\n",
              "      <th></th>\n",
              "      <th>precision</th>\n",
              "      <th>recall</th>\n",
              "      <th>f1-score</th>\n",
              "      <th>support</th>\n",
              "    </tr>\n",
              "  </thead>\n",
              "  <tbody>\n",
              "    <tr>\n",
              "      <th>0</th>\n",
              "      <td>86.18%</td>\n",
              "      <td>88.33%</td>\n",
              "      <td>87.24%</td>\n",
              "      <td>360.00</td>\n",
              "    </tr>\n",
              "    <tr>\n",
              "      <th>1</th>\n",
              "      <td>85.57%</td>\n",
              "      <td>83.00%</td>\n",
              "      <td>84.26%</td>\n",
              "      <td>300.00</td>\n",
              "    </tr>\n",
              "    <tr>\n",
              "      <th>accuracy</th>\n",
              "      <td>85.91%</td>\n",
              "      <td>85.91%</td>\n",
              "      <td>85.91%</td>\n",
              "      <td>0.86</td>\n",
              "    </tr>\n",
              "    <tr>\n",
              "      <th>macro avg</th>\n",
              "      <td>85.87%</td>\n",
              "      <td>85.67%</td>\n",
              "      <td>85.75%</td>\n",
              "      <td>660.00</td>\n",
              "    </tr>\n",
              "    <tr>\n",
              "      <th>weighted avg</th>\n",
              "      <td>85.90%</td>\n",
              "      <td>85.91%</td>\n",
              "      <td>85.89%</td>\n",
              "      <td>660.00</td>\n",
              "    </tr>\n",
              "  </tbody>\n",
              "</table>\n",
              "</div>\n",
              "      <button class=\"colab-df-convert\" onclick=\"convertToInteractive('df-b381312e-5292-4208-b685-6931d678f30f')\"\n",
              "              title=\"Convert this dataframe to an interactive table.\"\n",
              "              style=\"display:none;\">\n",
              "        \n",
              "  <svg xmlns=\"http://www.w3.org/2000/svg\" height=\"24px\"viewBox=\"0 0 24 24\"\n",
              "       width=\"24px\">\n",
              "    <path d=\"M0 0h24v24H0V0z\" fill=\"none\"/>\n",
              "    <path d=\"M18.56 5.44l.94 2.06.94-2.06 2.06-.94-2.06-.94-.94-2.06-.94 2.06-2.06.94zm-11 1L8.5 8.5l.94-2.06 2.06-.94-2.06-.94L8.5 2.5l-.94 2.06-2.06.94zm10 10l.94 2.06.94-2.06 2.06-.94-2.06-.94-.94-2.06-.94 2.06-2.06.94z\"/><path d=\"M17.41 7.96l-1.37-1.37c-.4-.4-.92-.59-1.43-.59-.52 0-1.04.2-1.43.59L10.3 9.45l-7.72 7.72c-.78.78-.78 2.05 0 2.83L4 21.41c.39.39.9.59 1.41.59.51 0 1.02-.2 1.41-.59l7.78-7.78 2.81-2.81c.8-.78.8-2.07 0-2.86zM5.41 20L4 18.59l7.72-7.72 1.47 1.35L5.41 20z\"/>\n",
              "  </svg>\n",
              "      </button>\n",
              "      \n",
              "  <style>\n",
              "    .colab-df-container {\n",
              "      display:flex;\n",
              "      flex-wrap:wrap;\n",
              "      gap: 12px;\n",
              "    }\n",
              "\n",
              "    .colab-df-convert {\n",
              "      background-color: #E8F0FE;\n",
              "      border: none;\n",
              "      border-radius: 50%;\n",
              "      cursor: pointer;\n",
              "      display: none;\n",
              "      fill: #1967D2;\n",
              "      height: 32px;\n",
              "      padding: 0 0 0 0;\n",
              "      width: 32px;\n",
              "    }\n",
              "\n",
              "    .colab-df-convert:hover {\n",
              "      background-color: #E2EBFA;\n",
              "      box-shadow: 0px 1px 2px rgba(60, 64, 67, 0.3), 0px 1px 3px 1px rgba(60, 64, 67, 0.15);\n",
              "      fill: #174EA6;\n",
              "    }\n",
              "\n",
              "    [theme=dark] .colab-df-convert {\n",
              "      background-color: #3B4455;\n",
              "      fill: #D2E3FC;\n",
              "    }\n",
              "\n",
              "    [theme=dark] .colab-df-convert:hover {\n",
              "      background-color: #434B5C;\n",
              "      box-shadow: 0px 1px 3px 1px rgba(0, 0, 0, 0.15);\n",
              "      filter: drop-shadow(0px 1px 2px rgba(0, 0, 0, 0.3));\n",
              "      fill: #FFFFFF;\n",
              "    }\n",
              "  </style>\n",
              "\n",
              "      <script>\n",
              "        const buttonEl =\n",
              "          document.querySelector('#df-b381312e-5292-4208-b685-6931d678f30f button.colab-df-convert');\n",
              "        buttonEl.style.display =\n",
              "          google.colab.kernel.accessAllowed ? 'block' : 'none';\n",
              "\n",
              "        async function convertToInteractive(key) {\n",
              "          const element = document.querySelector('#df-b381312e-5292-4208-b685-6931d678f30f');\n",
              "          const dataTable =\n",
              "            await google.colab.kernel.invokeFunction('convertToInteractive',\n",
              "                                                     [key], {});\n",
              "          if (!dataTable) return;\n",
              "\n",
              "          const docLinkHtml = 'Like what you see? Visit the ' +\n",
              "            '<a target=\"_blank\" href=https://colab.research.google.com/notebooks/data_table.ipynb>data table notebook</a>'\n",
              "            + ' to learn more about interactive tables.';\n",
              "          element.innerHTML = '';\n",
              "          dataTable['output_type'] = 'display_data';\n",
              "          await google.colab.output.renderOutput(dataTable, element);\n",
              "          const docLink = document.createElement('div');\n",
              "          docLink.innerHTML = docLinkHtml;\n",
              "          element.appendChild(docLink);\n",
              "        }\n",
              "      </script>\n",
              "    </div>\n",
              "  </div>\n",
              "  "
            ],
            "text/plain": [
              "             precision  recall f1-score  support\n",
              "0               86.18%  88.33%   87.24%   360.00\n",
              "1               85.57%  83.00%   84.26%   300.00\n",
              "accuracy        85.91%  85.91%   85.91%     0.86\n",
              "macro avg       85.87%  85.67%   85.75%   660.00\n",
              "weighted avg    85.90%  85.91%   85.89%   660.00"
            ]
          },
          "execution_count": 48,
          "metadata": {},
          "output_type": "execute_result"
        }
      ],
      "source": [
        "df"
      ]
    },
    {
      "cell_type": "markdown",
      "source": [
        "#SVM and NB"
      ],
      "metadata": {
        "id": "oosC7znQMMxU"
      }
    },
    {
      "cell_type": "markdown",
      "source": [
        "# Normalization and Scaling for SVM and NB\n",
        "\n"
      ],
      "metadata": {
        "id": "TwPv8lC3sPbX"
      }
    },
    {
      "cell_type": "code",
      "source": [
        "#NORMALIZATION AND SCALING FOR SVM AND NB \n",
        "#TRAINING\n",
        "import numpy as np\n",
        "\n",
        "def normalize(images):\n",
        "    return images / 255\n",
        "\n",
        "def feature_scale(images):\n",
        "    mean = np.mean(images, axis=(1, 2, 3))\n",
        "    std = np.std(images, axis=(1, 2, 3))\n",
        "    return (images - mean[:, np.newaxis, np.newaxis, np.newaxis]) / std[:, np.newaxis, np.newaxis, np.newaxis]\n",
        "\n",
        "# Assume that images is a list of RGB images with dimensions (num_images, height, width, 3)\n",
        "normalized_images = normalize(x_train)\n",
        "scaled_images = feature_scale(normalized_images)"
      ],
      "metadata": {
        "id": "_9mRsvnt5wuR"
      },
      "execution_count": null,
      "outputs": []
    },
    {
      "cell_type": "code",
      "source": [
        "rshape = scaled_images.shape[1]*scaled_images.shape[2]*scaled_images.shape[3]\n",
        "scaled_images_reshaped = scaled_images.reshape(scaled_images.shape[0],rshape)"
      ],
      "metadata": {
        "id": "XglbVZdtNeZi"
      },
      "execution_count": null,
      "outputs": []
    },
    {
      "cell_type": "code",
      "source": [
        "#TEST\n",
        "\n",
        "def normalize(images):\n",
        "    return images / 255\n",
        "\n",
        "def feature_scale(images):\n",
        "    mean = np.mean(images, axis=(1, 2, 3))\n",
        "    std = np.std(images, axis=(1, 2, 3))\n",
        "    return (images - mean[:, np.newaxis, np.newaxis, np.newaxis]) / std[:, np.newaxis, np.newaxis, np.newaxis]\n",
        "\n",
        "# Assume that images is a list of RGB images with dimensions (num_images, height, width, 3)\n",
        "normalized_images = normalize(x_test)\n",
        "scaled_images_test = feature_scale(normalized_images)"
      ],
      "metadata": {
        "id": "yXi_xJ0H-kGN"
      },
      "execution_count": null,
      "outputs": []
    },
    {
      "cell_type": "code",
      "source": [
        "rshape = scaled_images_test.shape[1]*scaled_images_test.shape[2]*scaled_images_test.shape[3]\n",
        "scaled_images_test_reshaped = scaled_images_test.reshape(scaled_images_test.shape[0],rshape)"
      ],
      "metadata": {
        "id": "en4QFJsA-hKi"
      },
      "execution_count": null,
      "outputs": []
    },
    {
      "cell_type": "markdown",
      "source": [
        "# SVM classifier"
      ],
      "metadata": {
        "id": "CSrJNSTYKjl2"
      }
    },
    {
      "cell_type": "code",
      "execution_count": null,
      "metadata": {
        "id": "Pzqp3B365Ah5",
        "colab": {
          "base_uri": "https://localhost:8080/"
        },
        "outputId": "0eea0466-9380-4b6c-af98-fc4424ad0026"
      },
      "outputs": [
        {
          "output_type": "execute_result",
          "data": {
            "text/plain": [
              "SVC(kernel='linear')"
            ]
          },
          "metadata": {},
          "execution_count": 23
        }
      ],
      "source": [
        "svm = SVC(kernel='linear')\n",
        "\n",
        "# train the model on the training data\n",
        "svm.fit(scaled_images_reshaped, y_train)"
      ]
    },
    {
      "cell_type": "code",
      "source": [
        "y_pred = svm.predict(scaled_images_test_reshaped)"
      ],
      "metadata": {
        "id": "QsX5wLEqk3du"
      },
      "execution_count": null,
      "outputs": []
    },
    {
      "cell_type": "code",
      "source": [
        "print(\"SVM accuracy score is:\",round(accuracy_score(y_pred,y_test),2))"
      ],
      "metadata": {
        "colab": {
          "base_uri": "https://localhost:8080/"
        },
        "id": "T4q6En_qqCDJ",
        "outputId": "fa6ef8a3-3fa3-4a03-9e9b-c1904dcb3188"
      },
      "execution_count": null,
      "outputs": [
        {
          "output_type": "stream",
          "name": "stdout",
          "text": [
            "SVM accuracy score is: 0.78\n"
          ]
        }
      ]
    },
    {
      "cell_type": "code",
      "source": [
        "# y_pred=np.argmax(y_pred, axis=1)\n",
        "# y_test=np.argmax(Y_test, axis=1)\n",
        "cm = confusion_matrix(y_test, y_pred)"
      ],
      "metadata": {
        "id": "-3Eb7suerK0S"
      },
      "execution_count": null,
      "outputs": []
    },
    {
      "cell_type": "code",
      "source": [
        "fig, ax = plot_confusion_matrix(conf_mat=cm, figsize=(6, 6), cmap=plt.cm.Blues)\n",
        "plt.xlabel('Predictions', fontsize=18)\n",
        "plt.ylabel('Actuals', fontsize=18)\n",
        "plt.title('Confusion Matrix', fontsize=18)\n",
        "plt.show()"
      ],
      "metadata": {
        "colab": {
          "base_uri": "https://localhost:8080/",
          "height": 432
        },
        "id": "W4BtcDCjrEaF",
        "outputId": "dd142467-3f0c-47ef-86af-e1ad1d407228"
      },
      "execution_count": null,
      "outputs": [
        {
          "output_type": "display_data",
          "data": {
            "text/plain": [
              "<Figure size 432x432 with 1 Axes>"
            ],
            "image/png": "[encoded data removed]"
          },
          "metadata": {}
        }
      ]
    },
    {
      "cell_type": "code",
      "source": [
        "report = classification_report(y_test, y_pred, output_dict=True) \n",
        "df_SVM = pd.DataFrame(report).transpose() "
      ],
      "metadata": {
        "id": "D_fBu_q-TL0e"
      },
      "execution_count": null,
      "outputs": []
    },
    {
      "cell_type": "code",
      "source": [
        "df_SVM['precision'] = df_SVM['precision'].apply('{:.2%}'.format)\n",
        "df_SVM['recall'] = df_SVM['recall'].apply('{:.2%}'.format)\n",
        "df_SVM['f1-score'] = df_SVM['f1-score'].apply('{:.2%}'.format)\n",
        "df_SVM[\"support\"]=round(df_SVM[\"support\"],2)\n",
        "df_SVM"
      ],
      "metadata": {
        "colab": {
          "base_uri": "https://localhost:8080/",
          "height": 206
        },
        "id": "wzPa0zrKTLy3",
        "outputId": "6a1d69cf-28a1-43c5-e1a0-6468bcbd1474"
      },
      "execution_count": null,
      "outputs": [
        {
          "output_type": "execute_result",
          "data": {
            "text/plain": [
              "             precision  recall f1-score  support\n",
              "0               78.04%  81.94%   79.95%   360.00\n",
              "1               76.95%  72.33%   74.57%   300.00\n",
              "accuracy        77.58%  77.58%   77.58%     0.78\n",
              "macro avg       77.50%  77.14%   77.26%   660.00\n",
              "weighted avg    77.55%  77.58%   77.50%   660.00"
            ],
            "text/html": [
              "\n",
              "  <div id=\"df-d7c4215b-1662-43ee-9da5-c9dcfca50110\">\n",
              "    <div class=\"colab-df-container\">\n",
              "      <div>\n",
              "<style scoped>\n",
              "    .dataframe tbody tr th:only-of-type {\n",
              "        vertical-align: middle;\n",
              "    }\n",
              "\n",
              "    .dataframe tbody tr th {\n",
              "        vertical-align: top;\n",
              "    }\n",
              "\n",
              "    .dataframe thead th {\n",
              "        text-align: right;\n",
              "    }\n",
              "</style>\n",
              "<table border=\"1\" class=\"dataframe\">\n",
              "  <thead>\n",
              "    <tr style=\"text-align: right;\">\n",
              "      <th></th>\n",
              "      <th>precision</th>\n",
              "      <th>recall</th>\n",
              "      <th>f1-score</th>\n",
              "      <th>support</th>\n",
              "    </tr>\n",
              "  </thead>\n",
              "  <tbody>\n",
              "    <tr>\n",
              "      <th>0</th>\n",
              "      <td>78.04%</td>\n",
              "      <td>81.94%</td>\n",
              "      <td>79.95%</td>\n",
              "      <td>360.00</td>\n",
              "    </tr>\n",
              "    <tr>\n",
              "      <th>1</th>\n",
              "      <td>76.95%</td>\n",
              "      <td>72.33%</td>\n",
              "      <td>74.57%</td>\n",
              "      <td>300.00</td>\n",
              "    </tr>\n",
              "    <tr>\n",
              "      <th>accuracy</th>\n",
              "      <td>77.58%</td>\n",
              "      <td>77.58%</td>\n",
              "      <td>77.58%</td>\n",
              "      <td>0.78</td>\n",
              "    </tr>\n",
              "    <tr>\n",
              "      <th>macro avg</th>\n",
              "      <td>77.50%</td>\n",
              "      <td>77.14%</td>\n",
              "      <td>77.26%</td>\n",
              "      <td>660.00</td>\n",
              "    </tr>\n",
              "    <tr>\n",
              "      <th>weighted avg</th>\n",
              "      <td>77.55%</td>\n",
              "      <td>77.58%</td>\n",
              "      <td>77.50%</td>\n",
              "      <td>660.00</td>\n",
              "    </tr>\n",
              "  </tbody>\n",
              "</table>\n",
              "</div>\n",
              "      <button class=\"colab-df-convert\" onclick=\"convertToInteractive('df-d7c4215b-1662-43ee-9da5-c9dcfca50110')\"\n",
              "              title=\"Convert this dataframe to an interactive table.\"\n",
              "              style=\"display:none;\">\n",
              "        \n",
              "  <svg xmlns=\"http://www.w3.org/2000/svg\" height=\"24px\"viewBox=\"0 0 24 24\"\n",
              "       width=\"24px\">\n",
              "    <path d=\"M0 0h24v24H0V0z\" fill=\"none\"/>\n",
              "    <path d=\"M18.56 5.44l.94 2.06.94-2.06 2.06-.94-2.06-.94-.94-2.06-.94 2.06-2.06.94zm-11 1L8.5 8.5l.94-2.06 2.06-.94-2.06-.94L8.5 2.5l-.94 2.06-2.06.94zm10 10l.94 2.06.94-2.06 2.06-.94-2.06-.94-.94-2.06-.94 2.06-2.06.94z\"/><path d=\"M17.41 7.96l-1.37-1.37c-.4-.4-.92-.59-1.43-.59-.52 0-1.04.2-1.43.59L10.3 9.45l-7.72 7.72c-.78.78-.78 2.05 0 2.83L4 21.41c.39.39.9.59 1.41.59.51 0 1.02-.2 1.41-.59l7.78-7.78 2.81-2.81c.8-.78.8-2.07 0-2.86zM5.41 20L4 18.59l7.72-7.72 1.47 1.35L5.41 20z\"/>\n",
              "  </svg>\n",
              "      </button>\n",
              "      \n",
              "  <style>\n",
              "    .colab-df-container {\n",
              "      display:flex;\n",
              "      flex-wrap:wrap;\n",
              "      gap: 12px;\n",
              "    }\n",
              "\n",
              "    .colab-df-convert {\n",
              "      background-color: #E8F0FE;\n",
              "      border: none;\n",
              "      border-radius: 50%;\n",
              "      cursor: pointer;\n",
              "      display: none;\n",
              "      fill: #1967D2;\n",
              "      height: 32px;\n",
              "      padding: 0 0 0 0;\n",
              "      width: 32px;\n",
              "    }\n",
              "\n",
              "    .colab-df-convert:hover {\n",
              "      background-color: #E2EBFA;\n",
              "      box-shadow: 0px 1px 2px rgba(60, 64, 67, 0.3), 0px 1px 3px 1px rgba(60, 64, 67, 0.15);\n",
              "      fill: #174EA6;\n",
              "    }\n",
              "\n",
              "    [theme=dark] .colab-df-convert {\n",
              "      background-color: #3B4455;\n",
              "      fill: #D2E3FC;\n",
              "    }\n",
              "\n",
              "    [theme=dark] .colab-df-convert:hover {\n",
              "      background-color: #434B5C;\n",
              "      box-shadow: 0px 1px 3px 1px rgba(0, 0, 0, 0.15);\n",
              "      filter: drop-shadow(0px 1px 2px rgba(0, 0, 0, 0.3));\n",
              "      fill: #FFFFFF;\n",
              "    }\n",
              "  </style>\n",
              "\n",
              "      <script>\n",
              "        const buttonEl =\n",
              "          document.querySelector('#df-d7c4215b-1662-43ee-9da5-c9dcfca50110 button.colab-df-convert');\n",
              "        buttonEl.style.display =\n",
              "          google.colab.kernel.accessAllowed ? 'block' : 'none';\n",
              "\n",
              "        async function convertToInteractive(key) {\n",
              "          const element = document.querySelector('#df-d7c4215b-1662-43ee-9da5-c9dcfca50110');\n",
              "          const dataTable =\n",
              "            await google.colab.kernel.invokeFunction('convertToInteractive',\n",
              "                                                     [key], {});\n",
              "          if (!dataTable) return;\n",
              "\n",
              "          const docLinkHtml = 'Like what you see? Visit the ' +\n",
              "            '<a target=\"_blank\" href=https://colab.research.google.com/notebooks/data_table.ipynb>data table notebook</a>'\n",
              "            + ' to learn more about interactive tables.';\n",
              "          element.innerHTML = '';\n",
              "          dataTable['output_type'] = 'display_data';\n",
              "          await google.colab.output.renderOutput(dataTable, element);\n",
              "          const docLink = document.createElement('div');\n",
              "          docLink.innerHTML = docLinkHtml;\n",
              "          element.appendChild(docLink);\n",
              "        }\n",
              "      </script>\n",
              "    </div>\n",
              "  </div>\n",
              "  "
            ]
          },
          "metadata": {},
          "execution_count": 29
        }
      ]
    },
    {
      "cell_type": "markdown",
      "source": [
        "# NAIVE BAYES"
      ],
      "metadata": {
        "id": "YDZw0kyaKQp4"
      }
    },
    {
      "cell_type": "code",
      "source": [
        "nb = GaussianNB()\n",
        "nb.fit(scaled_images_reshaped, y_train)"
      ],
      "metadata": {
        "colab": {
          "base_uri": "https://localhost:8080/"
        },
        "id": "YyKk_tEEKQOJ",
        "outputId": "6aba26ad-2395-491e-d0da-aba860e0a7cc"
      },
      "execution_count": null,
      "outputs": [
        {
          "output_type": "execute_result",
          "data": {
            "text/plain": [
              "GaussianNB()"
            ]
          },
          "metadata": {},
          "execution_count": 30
        }
      ]
    },
    {
      "cell_type": "code",
      "source": [
        "y_prediction_nb = nb.predict(scaled_images_test_reshaped)"
      ],
      "metadata": {
        "id": "UCoCFMSHKUrm"
      },
      "execution_count": null,
      "outputs": []
    },
    {
      "cell_type": "code",
      "source": [
        "print(\"NAIVE BAYES accuracy score is:\",round(accuracy_score(y_prediction_nb,y_test),2))"
      ],
      "metadata": {
        "colab": {
          "base_uri": "https://localhost:8080/"
        },
        "id": "uALB3C_6s8CZ",
        "outputId": "6572a9c0-c944-4264-aa54-917298c2a39f"
      },
      "execution_count": null,
      "outputs": [
        {
          "output_type": "stream",
          "name": "stdout",
          "text": [
            "NAIVE BAYES accuracy score is: 0.74\n"
          ]
        }
      ]
    },
    {
      "cell_type": "code",
      "source": [
        "cm_nb = confusion_matrix(y_test, y_prediction_nb)"
      ],
      "metadata": {
        "id": "jBt8P3mEs2zS"
      },
      "execution_count": null,
      "outputs": []
    },
    {
      "cell_type": "code",
      "source": [
        "fig, ax = plot_confusion_matrix(conf_mat=cm_nb, figsize=(6, 6), cmap=plt.cm.Purples)\n",
        "plt.xlabel('Predictions', fontsize=18)\n",
        "plt.ylabel('Actuals', fontsize=18)\n",
        "plt.title('Confusion Matrix', fontsize=18)\n",
        "plt.show()\n",
        "\n",
        "# classifica malino i tumori benigni"
      ],
      "metadata": {
        "colab": {
          "base_uri": "https://localhost:8080/",
          "height": 432
        },
        "id": "wfmz3P5htHH-",
        "outputId": "ad5cab7f-2410-4b16-caf9-38bb800bb0bb"
      },
      "execution_count": null,
      "outputs": [
        {
          "output_type": "display_data",
          "data": {
            "text/plain": [
              "<Figure size 432x432 with 1 Axes>"
            ],
            "image/png": "[encoded data removed]"
          },
          "metadata": {}
        }
      ]
    },
    {
      "cell_type": "code",
      "source": [
        "report = classification_report(y_test, y_prediction_nb, output_dict=True) \n",
        "df_NB = pd.DataFrame(report).transpose() "
      ],
      "metadata": {
        "id": "XXNXBy41TlmJ"
      },
      "execution_count": null,
      "outputs": []
    },
    {
      "cell_type": "code",
      "source": [
        "df_NB['precision'] = df_NB['precision'].apply('{:.2%}'.format)\n",
        "df_NB['recall'] = df_NB['recall'].apply('{:.2%}'.format)\n",
        "df_NB['f1-score'] = df_NB['f1-score'].apply('{:.2%}'.format)\n",
        "df_NB[\"support\"]=round(df_NB[\"support\"],2)\n",
        "df_NB"
      ],
      "metadata": {
        "colab": {
          "base_uri": "https://localhost:8080/",
          "height": 206
        },
        "id": "Vp7tsFeSTlkf",
        "outputId": "e779b1cc-e390-4ad7-91c7-435096eac23f"
      },
      "execution_count": null,
      "outputs": [
        {
          "output_type": "execute_result",
          "data": {
            "text/plain": [
              "             precision  recall f1-score  support\n",
              "0               78.70%  70.83%   74.56%   360.00\n",
              "1               68.75%  77.00%   72.64%   300.00\n",
              "accuracy        73.64%  73.64%   73.64%     0.74\n",
              "macro avg       73.73%  73.92%   73.60%   660.00\n",
              "weighted avg    74.18%  73.64%   73.69%   660.00"
            ],
            "text/html": [
              "\n",
              "  <div id=\"df-fbc23fd3-7e06-4073-a52f-d27b758115b4\">\n",
              "    <div class=\"colab-df-container\">\n",
              "      <div>\n",
              "<style scoped>\n",
              "    .dataframe tbody tr th:only-of-type {\n",
              "        vertical-align: middle;\n",
              "    }\n",
              "\n",
              "    .dataframe tbody tr th {\n",
              "        vertical-align: top;\n",
              "    }\n",
              "\n",
              "    .dataframe thead th {\n",
              "        text-align: right;\n",
              "    }\n",
              "</style>\n",
              "<table border=\"1\" class=\"dataframe\">\n",
              "  <thead>\n",
              "    <tr style=\"text-align: right;\">\n",
              "      <th></th>\n",
              "      <th>precision</th>\n",
              "      <th>recall</th>\n",
              "      <th>f1-score</th>\n",
              "      <th>support</th>\n",
              "    </tr>\n",
              "  </thead>\n",
              "  <tbody>\n",
              "    <tr>\n",
              "      <th>0</th>\n",
              "      <td>78.70%</td>\n",
              "      <td>70.83%</td>\n",
              "      <td>74.56%</td>\n",
              "      <td>360.00</td>\n",
              "    </tr>\n",
              "    <tr>\n",
              "      <th>1</th>\n",
              "      <td>68.75%</td>\n",
              "      <td>77.00%</td>\n",
              "      <td>72.64%</td>\n",
              "      <td>300.00</td>\n",
              "    </tr>\n",
              "    <tr>\n",
              "      <th>accuracy</th>\n",
              "      <td>73.64%</td>\n",
              "      <td>73.64%</td>\n",
              "      <td>73.64%</td>\n",
              "      <td>0.74</td>\n",
              "    </tr>\n",
              "    <tr>\n",
              "      <th>macro avg</th>\n",
              "      <td>73.73%</td>\n",
              "      <td>73.92%</td>\n",
              "      <td>73.60%</td>\n",
              "      <td>660.00</td>\n",
              "    </tr>\n",
              "    <tr>\n",
              "      <th>weighted avg</th>\n",
              "      <td>74.18%</td>\n",
              "      <td>73.64%</td>\n",
              "      <td>73.69%</td>\n",
              "      <td>660.00</td>\n",
              "    </tr>\n",
              "  </tbody>\n",
              "</table>\n",
              "</div>\n",
              "      <button class=\"colab-df-convert\" onclick=\"convertToInteractive('df-fbc23fd3-7e06-4073-a52f-d27b758115b4')\"\n",
              "              title=\"Convert this dataframe to an interactive table.\"\n",
              "              style=\"display:none;\">\n",
              "        \n",
              "  <svg xmlns=\"http://www.w3.org/2000/svg\" height=\"24px\"viewBox=\"0 0 24 24\"\n",
              "       width=\"24px\">\n",
              "    <path d=\"M0 0h24v24H0V0z\" fill=\"none\"/>\n",
              "    <path d=\"M18.56 5.44l.94 2.06.94-2.06 2.06-.94-2.06-.94-.94-2.06-.94 2.06-2.06.94zm-11 1L8.5 8.5l.94-2.06 2.06-.94-2.06-.94L8.5 2.5l-.94 2.06-2.06.94zm10 10l.94 2.06.94-2.06 2.06-.94-2.06-.94-.94-2.06-.94 2.06-2.06.94z\"/><path d=\"M17.41 7.96l-1.37-1.37c-.4-.4-.92-.59-1.43-.59-.52 0-1.04.2-1.43.59L10.3 9.45l-7.72 7.72c-.78.78-.78 2.05 0 2.83L4 21.41c.39.39.9.59 1.41.59.51 0 1.02-.2 1.41-.59l7.78-7.78 2.81-2.81c.8-.78.8-2.07 0-2.86zM5.41 20L4 18.59l7.72-7.72 1.47 1.35L5.41 20z\"/>\n",
              "  </svg>\n",
              "      </button>\n",
              "      \n",
              "  <style>\n",
              "    .colab-df-container {\n",
              "      display:flex;\n",
              "      flex-wrap:wrap;\n",
              "      gap: 12px;\n",
              "    }\n",
              "\n",
              "    .colab-df-convert {\n",
              "      background-color: #E8F0FE;\n",
              "      border: none;\n",
              "      border-radius: 50%;\n",
              "      cursor: pointer;\n",
              "      display: none;\n",
              "      fill: #1967D2;\n",
              "      height: 32px;\n",
              "      padding: 0 0 0 0;\n",
              "      width: 32px;\n",
              "    }\n",
              "\n",
              "    .colab-df-convert:hover {\n",
              "      background-color: #E2EBFA;\n",
              "      box-shadow: 0px 1px 2px rgba(60, 64, 67, 0.3), 0px 1px 3px 1px rgba(60, 64, 67, 0.15);\n",
              "      fill: #174EA6;\n",
              "    }\n",
              "\n",
              "    [theme=dark] .colab-df-convert {\n",
              "      background-color: #3B4455;\n",
              "      fill: #D2E3FC;\n",
              "    }\n",
              "\n",
              "    [theme=dark] .colab-df-convert:hover {\n",
              "      background-color: #434B5C;\n",
              "      box-shadow: 0px 1px 3px 1px rgba(0, 0, 0, 0.15);\n",
              "      filter: drop-shadow(0px 1px 2px rgba(0, 0, 0, 0.3));\n",
              "      fill: #FFFFFF;\n",
              "    }\n",
              "  </style>\n",
              "\n",
              "      <script>\n",
              "        const buttonEl =\n",
              "          document.querySelector('#df-fbc23fd3-7e06-4073-a52f-d27b758115b4 button.colab-df-convert');\n",
              "        buttonEl.style.display =\n",
              "          google.colab.kernel.accessAllowed ? 'block' : 'none';\n",
              "\n",
              "        async function convertToInteractive(key) {\n",
              "          const element = document.querySelector('#df-fbc23fd3-7e06-4073-a52f-d27b758115b4');\n",
              "          const dataTable =\n",
              "            await google.colab.kernel.invokeFunction('convertToInteractive',\n",
              "                                                     [key], {});\n",
              "          if (!dataTable) return;\n",
              "\n",
              "          const docLinkHtml = 'Like what you see? Visit the ' +\n",
              "            '<a target=\"_blank\" href=https://colab.research.google.com/notebooks/data_table.ipynb>data table notebook</a>'\n",
              "            + ' to learn more about interactive tables.';\n",
              "          element.innerHTML = '';\n",
              "          dataTable['output_type'] = 'display_data';\n",
              "          await google.colab.output.renderOutput(dataTable, element);\n",
              "          const docLink = document.createElement('div');\n",
              "          docLink.innerHTML = docLinkHtml;\n",
              "          element.appendChild(docLink);\n",
              "        }\n",
              "      </script>\n",
              "    </div>\n",
              "  </div>\n",
              "  "
            ]
          },
          "metadata": {},
          "execution_count": 36
        }
      ]
    }
  ],
  "metadata": {
    "accelerator": "GPU",
    "colab": {
      "provenance": [],
      "collapsed_sections": [
        "kW4P15fCgm1F",
        "UJU5dNHFgrDq",
        "RkvdjHR8aK-p",
        "xTwB2bZjg4x2",
        "lJWhx_vFgf6T",
        "rk2OxzNCCKE8",
        "TwPv8lC3sPbX",
        "CSrJNSTYKjl2",
        "YDZw0kyaKQp4"
      ]
    },
    "gpuClass": "standard",
    "kernelspec": {
      "display_name": "Python 3",
      "name": "python3"
    },
    "language_info": {
      "name": "python"
    }
  },
  "nbformat": 4,
  "nbformat_minor": 0
}